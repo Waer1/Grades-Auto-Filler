{
 "cells": [
  {
   "cell_type": "code",
   "execution_count": null,
   "metadata": {},
   "outputs": [],
   "source": [
    "# return the Canny edge detection of image\n",
    "def getEdges(image):\n",
    "    gray = cv2.cvtColor(image, cv2.COLOR_BGR2GRAY)\n",
    "    blurred = cv2.GaussianBlur(gray, (5, 5), 0)\n",
    "    edged = cv2.Canny(blurred, 75, 200)\n",
    "    return edged"
   ]
  },
  {
   "cell_type": "code",
   "execution_count": null,
   "metadata": {},
   "outputs": [],
   "source": [
    "# return the Canny edge detection of Table by increase the height parameter\n",
    "def getEdgesTable(image):\n",
    "    gray = cv2.cvtColor(image, cv2.COLOR_BGR2GRAY)\n",
    "    blurred = cv2.GaussianBlur(gray, (5, 5), 1)\n",
    "    edged = cv2.Canny(blurred, 30, 100)\n",
    "    return edged"
   ]
  },
  {
   "cell_type": "code",
   "execution_count": null,
   "metadata": {},
   "outputs": [],
   "source": [
    "# return the biggest square Contour of image\n",
    "def getContours(edged):\n",
    "    cnts = cv2.findContours(edged.copy(), cv2.RETR_EXTERNAL, cv2.CHAIN_APPROX_SIMPLE)\n",
    "    cnts = imutils.grab_contours(cnts)\n",
    "    docCnt = None\n",
    "    boarderd = []\n",
    "    if len(cnts) > 0:\n",
    "        cnts = sorted(cnts, key=cv2.contourArea, reverse=True)\n",
    "        for c in cnts:\n",
    "            peri = cv2.arcLength(c, True)\n",
    "            approx = cv2.approxPolyDP(c, 0.02 * peri, True)\n",
    "            points = len(approx)\n",
    "            if (points == 4):\n",
    "                docCnt = approx\n",
    "                break\n",
    "    return docCnt"
   ]
  },
  {
   "cell_type": "code",
   "execution_count": null,
   "metadata": {},
   "outputs": [],
   "source": [
    "# remove the border of Image here it used for TAbles\n",
    "def CropImg(img):\n",
    "    cropped_image = img[int(img.shape[0] * .01):int(img.shape[0] * .98), int(img.shape[1] * .02):int(img.shape[1] * .98)]\n",
    "    return cropped_image"
   ]
  },
  {
   "cell_type": "code",
   "execution_count": null,
   "metadata": {},
   "outputs": [],
   "source": [
    "#extract the Table from the image and modify point of view\n",
    "def exetractTable(image,docCnt):\n",
    "    Table = four_point_transform(image, docCnt.reshape(4, 2))\n",
    "    return Table"
   ]
  },
  {
   "cell_type": "code",
   "execution_count": null,
   "metadata": {},
   "outputs": [],
   "source": [
    "# frinction to remove the internal details of the image to make the paper itself the bigest contour \n",
    "def RemoveText(image):\n",
    "    kernel = np.ones((8,8),np.uint8)\n",
    "    img = cv2.morphologyEx(image, cv2.MORPH_CLOSE, kernel, iterations= 3)\n",
    "    return img"
   ]
  },
  {
   "cell_type": "code",
   "execution_count": null,
   "metadata": {},
   "outputs": [],
   "source": [
    "# get little wider table to show the outlines vertical lines\n",
    "def widerTable(docCnt, imageShape):\n",
    "    heightincrese = int(imageShape[0]*.015)\n",
    "    widthincrese = int(imageShape[1]*.01)\n",
    "    halfHor = int(imageShape[1]/2)\n",
    "    halfVer = int(imageShape[0]/2)\n",
    "    \n",
    "    widerdoc = np.copy(docCnt)\n",
    "    for c in docCnt:\n",
    "        c[0][0] += (c[0][0] > halfHor) * widthincrese\n",
    "        c[0][0] -= (c[0][0] < halfHor) * widthincrese\n",
    "        \n",
    "        c[0][1] += (c[0][1] > halfVer) * heightincrese\n",
    "        c[0][1] -= (c[0][1] < halfVer) * heightincrese\n",
    "        \n",
    "    return docCnt"
   ]
  },
  {
   "cell_type": "code",
   "execution_count": null,
   "metadata": {},
   "outputs": [],
   "source": [
    "# remove all hars that neasr to each other by 5px\n",
    "def removeReplication(boxes, ratio):\n",
    "    validboxes = []\n",
    "    Widths =[]\n",
    "    AVGwidth = 0\n",
    "    validboxes.append(boxes[0])\n",
    "    for i in range(1, len(boxes)):\n",
    "        if(abs(boxes[i][0] - boxes[i-1][0]) > ratio ):\n",
    "            validboxes.append(boxes[i])\n",
    "            Widths.append(abs(boxes[i][0] - boxes[i][1]))\n",
    "            AVGwidth += abs(boxes[i][0] - boxes[i][1])\n",
    "    Widths.sort()\n",
    "    return validboxes , Widths[len(Widths)//2] , AVGwidth // len(validboxes)"
   ]
  },
  {
   "cell_type": "code",
   "execution_count": null,
   "metadata": {},
   "outputs": [],
   "source": []
  }
 ],
 "metadata": {
  "language_info": {
   "name": "python"
  },
  "orig_nbformat": 4
 },
 "nbformat": 4,
 "nbformat_minor": 2
}
